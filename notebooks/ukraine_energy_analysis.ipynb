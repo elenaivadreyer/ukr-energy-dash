{
 "cells": [
  {
   "cell_type": "markdown",
   "metadata": {},
   "source": [
    "# Ukraine Energy Dashboard - Data Analysis\n",
    "\n",
    "This notebook demonstrates how to use the data loading and analysis components of the Ukraine Energy Dashboard.\n",
    "\n",
    "## Features\n",
    "- Load and analyze energy data\n",
    "- Create custom visualizations\n",
    "- Explore data patterns and trends\n"
   ]
  },
  {
   "cell_type": "code",
   "execution_count": null,
   "metadata": {},
   "outputs": [],
   "source": [
    "# Import necessary libraries\n",
    "import pandas as pd\n",
    "import plotly.express as px\n",
    "import sys\n",
    "import os\n",
    "\n",
    "# Add the project root to the path\n",
    "sys.path.append('..')\n",
    "\n",
    "# Import dashboard components\n",
    "from data.data_loader import DataLoader"
   ]
  },
  {
   "cell_type": "code",
   "execution_count": null,
   "metadata": {},
   "outputs": [],
   "source": [
    "# Load data using the dashboard's data loader\n",
    "loader = DataLoader()\n",
    "data = loader.get_latest_data()\n",
    "\n",
    "print(f\"Loaded {len(data)} rows of data\")\n",
    "print(f\"Date range: {data['date'].min()} to {data['date'].max()}\")\n",
    "data.head()"
   ]
  },
  {
   "cell_type": "code",
   "execution_count": null,
   "metadata": {},
   "outputs": [],
   "source": [
    "# Create a custom visualization\n",
    "fig = px.line(data, x='date', y=['energy_production', 'energy_consumption'],\n",
    "              title='Ukraine Energy Production vs Consumption',\n",
    "              labels={'value': 'Energy (TWh)', 'date': 'Date'})\n",
    "fig.show()"
   ]
  },
  {
   "cell_type": "code",
   "execution_count": null,
   "metadata": {},
   "outputs": [],
   "source": [
    "# Get summary statistics\n",
    "stats = loader.get_summary_stats(data)\n",
    "print(\"Energy Production Statistics:\")\n",
    "for key, value in stats['energy_production'].items():\n",
    "    print(f\"{key}: {value:.2f}\")"
   ]
  }
 ],
 "metadata": {
  "kernelspec": {
   "display_name": "Python 3",
   "language": "python",
   "name": "python3"
  },
  "language_info": {
   "codemirror_mode": {
    "name": "ipython",
    "version": 3
   },
   "file_extension": ".py",
   "mimetype": "text/x-python",
   "name": "python",
   "nbconvert_exporter": "python",
   "pygments_lexer": "ipython3",
   "version": "3.11.0"
  }
 },
 "nbformat": 4,
 "nbformat_minor": 2
}
