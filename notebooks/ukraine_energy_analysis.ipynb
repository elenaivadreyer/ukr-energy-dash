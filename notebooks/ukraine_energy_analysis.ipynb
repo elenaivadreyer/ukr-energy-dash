{
 "cells": [
  {
   "cell_type": "markdown",
   "metadata": {},
   "source": [
    "# Ukraine Energy Dashboard - Data Inspection\n"
   ]
  },
  {
   "cell_type": "code",
   "execution_count": null,
   "metadata": {},
   "outputs": [],
   "source": [
    "# Import necessary libraries\n",
    "import geopandas as gpd\n",
    "\n",
    "gdf_osm = gpd.read_file(\"/workspaces/ukr_energy_dash/assets/data/power_stations_with_oblasts.geojson\")\n",
    "\n",
    "# ignore 'osm_id' and 'osm_type' columns\n",
    "gdf_osm = gdf_osm.drop(columns=[\"osm_id\", \"osm_type\"])\n",
    "\n",
    "# rename columns with \":\", e.g. \"power:source\" to \"power_source\"\n",
    "gdf_osm = gdf_osm.rename(columns=lambda x: x.replace(\":\", \"_\"))\n",
    "\n",
    "# calculate centroid and add lat/lon columns\n",
    "gdf_osm[\"centroid\"] = gdf_osm.geometry.centroid\n",
    "gdf_osm[\"centroid_lon\"] = gdf_osm.centroid.x\n",
    "gdf_osm[\"centroid_lat\"] = gdf_osm.centroid.y"
   ]
  },
  {
   "cell_type": "code",
   "execution_count": 2,
   "metadata": {},
   "outputs": [
    {
     "data": {
      "text/plain": [
       "(999, 18)"
      ]
     },
     "execution_count": 2,
     "metadata": {},
     "output_type": "execute_result"
    }
   ],
   "source": [
    "gdf_osm.shape"
   ]
  },
  {
   "cell_type": "code",
   "execution_count": 3,
   "metadata": {},
   "outputs": [],
   "source": [
    "# sort by oblast, then power, power:source\n",
    "gdf_osm = gdf_osm.sort_values(by=[\"oblast_name_en\", \"name\", \"power\", \"plant_method\"], ascending=[True, True, True, True], ignore_index=True)"
   ]
  },
  {
   "cell_type": "code",
   "execution_count": 4,
   "metadata": {},
   "outputs": [
    {
     "data": {
      "text/html": [
       "<div>\n",
       "<style scoped>\n",
       "    .dataframe tbody tr th:only-of-type {\n",
       "        vertical-align: middle;\n",
       "    }\n",
       "\n",
       "    .dataframe tbody tr th {\n",
       "        vertical-align: top;\n",
       "    }\n",
       "\n",
       "    .dataframe thead th {\n",
       "        text-align: right;\n",
       "    }\n",
       "</style>\n",
       "<table border=\"1\" class=\"dataframe\">\n",
       "  <thead>\n",
       "    <tr style=\"text-align: right;\">\n",
       "      <th></th>\n",
       "      <th>power</th>\n",
       "      <th>substation</th>\n",
       "      <th>name</th>\n",
       "      <th>station_name_en</th>\n",
       "      <th>operator</th>\n",
       "      <th>operator_en</th>\n",
       "      <th>barrier</th>\n",
       "      <th>voltage</th>\n",
       "      <th>landuse</th>\n",
       "      <th>plant_method</th>\n",
       "      <th>plant_output_electricity</th>\n",
       "      <th>plant_source</th>\n",
       "      <th>oblast_name_en</th>\n",
       "      <th>gppd_overlap</th>\n",
       "      <th>geometry</th>\n",
       "      <th>centroid</th>\n",
       "      <th>centroid_lon</th>\n",
       "      <th>centroid_lat</th>\n",
       "    </tr>\n",
       "  </thead>\n",
       "  <tbody>\n",
       "    <tr>\n",
       "      <th>0</th>\n",
       "      <td>plant</td>\n",
       "      <td>None</td>\n",
       "      <td>Вороненська ГЕС</td>\n",
       "      <td>None</td>\n",
       "      <td>None</td>\n",
       "      <td>None</td>\n",
       "      <td>None</td>\n",
       "      <td>None</td>\n",
       "      <td>industrial</td>\n",
       "      <td>None</td>\n",
       "      <td>yes</td>\n",
       "      <td>hydro</td>\n",
       "      <td>Cherkasy</td>\n",
       "      <td>False</td>\n",
       "      <td>POLYGON ((30.23471 49.14875, 30.23474 49.14865...</td>\n",
       "      <td>POINT (30.23487 49.14871)</td>\n",
       "      <td>30.234865</td>\n",
       "      <td>49.148713</td>\n",
       "    </tr>\n",
       "    <tr>\n",
       "      <th>1</th>\n",
       "      <td>plant</td>\n",
       "      <td>None</td>\n",
       "      <td>Закинута гідроелектростанція</td>\n",
       "      <td>None</td>\n",
       "      <td>None</td>\n",
       "      <td>None</td>\n",
       "      <td>None</td>\n",
       "      <td>None</td>\n",
       "      <td>None</td>\n",
       "      <td>None</td>\n",
       "      <td>yes</td>\n",
       "      <td>hydro</td>\n",
       "      <td>Cherkasy</td>\n",
       "      <td>False</td>\n",
       "      <td>POLYGON ((30.39681 49.09151, 30.39702 49.09146...</td>\n",
       "      <td>POINT (30.39686 49.09137)</td>\n",
       "      <td>30.396857</td>\n",
       "      <td>49.091373</td>\n",
       "    </tr>\n",
       "    <tr>\n",
       "      <th>2</th>\n",
       "      <td>plant</td>\n",
       "      <td>None</td>\n",
       "      <td>Звенигородська ГЕС</td>\n",
       "      <td>None</td>\n",
       "      <td>ЗОВНІШНЬОЕКОНОМІЧНА АСОЦІАЦІЯ \"НОВОСВІТ\"</td>\n",
       "      <td>None</td>\n",
       "      <td>None</td>\n",
       "      <td>None</td>\n",
       "      <td>industrial</td>\n",
       "      <td>water-storage</td>\n",
       "      <td>0.4 MW</td>\n",
       "      <td>hydro</td>\n",
       "      <td>Cherkasy</td>\n",
       "      <td>False</td>\n",
       "      <td>POLYGON ((30.94182 49.09441, 30.94192 49.09439...</td>\n",
       "      <td>POINT (30.94264 49.09422)</td>\n",
       "      <td>30.942636</td>\n",
       "      <td>49.094220</td>\n",
       "    </tr>\n",
       "    <tr>\n",
       "      <th>3</th>\n",
       "      <td>plant</td>\n",
       "      <td>None</td>\n",
       "      <td>Канівська ГЕС</td>\n",
       "      <td>None</td>\n",
       "      <td>None</td>\n",
       "      <td>None</td>\n",
       "      <td>None</td>\n",
       "      <td>None</td>\n",
       "      <td>industrial</td>\n",
       "      <td>run-of-the-river</td>\n",
       "      <td>472 MW</td>\n",
       "      <td>hydro</td>\n",
       "      <td>Cherkasy</td>\n",
       "      <td>True</td>\n",
       "      <td>POLYGON ((31.45975 49.76252, 31.45949 49.76242...</td>\n",
       "      <td>POINT (31.47335 49.76075)</td>\n",
       "      <td>31.473345</td>\n",
       "      <td>49.760754</td>\n",
       "    </tr>\n",
       "    <tr>\n",
       "      <th>4</th>\n",
       "      <td>plant</td>\n",
       "      <td>None</td>\n",
       "      <td>Корсунь-Шевченківська ГЕС</td>\n",
       "      <td>None</td>\n",
       "      <td>None</td>\n",
       "      <td>None</td>\n",
       "      <td>None</td>\n",
       "      <td>None</td>\n",
       "      <td>industrial</td>\n",
       "      <td>None</td>\n",
       "      <td>1.8 MW</td>\n",
       "      <td>hydro</td>\n",
       "      <td>Cherkasy</td>\n",
       "      <td>False</td>\n",
       "      <td>POLYGON ((31.26293 49.41092, 31.26287 49.41129...</td>\n",
       "      <td>POINT (31.26386 49.41185)</td>\n",
       "      <td>31.263858</td>\n",
       "      <td>49.411851</td>\n",
       "    </tr>\n",
       "  </tbody>\n",
       "</table>\n",
       "</div>"
      ],
      "text/plain": [
       "   power substation                          name station_name_en  \\\n",
       "0  plant       None               Вороненська ГЕС            None   \n",
       "1  plant       None  Закинута гідроелектростанція            None   \n",
       "2  plant       None            Звенигородська ГЕС            None   \n",
       "3  plant       None                 Канівська ГЕС            None   \n",
       "4  plant       None     Корсунь-Шевченківська ГЕС            None   \n",
       "\n",
       "                                   operator operator_en barrier voltage  \\\n",
       "0                                      None        None    None    None   \n",
       "1                                      None        None    None    None   \n",
       "2  ЗОВНІШНЬОЕКОНОМІЧНА АСОЦІАЦІЯ \"НОВОСВІТ\"        None    None    None   \n",
       "3                                      None        None    None    None   \n",
       "4                                      None        None    None    None   \n",
       "\n",
       "      landuse      plant_method plant_output_electricity plant_source  \\\n",
       "0  industrial              None                      yes        hydro   \n",
       "1        None              None                      yes        hydro   \n",
       "2  industrial     water-storage                   0.4 MW        hydro   \n",
       "3  industrial  run-of-the-river                   472 MW        hydro   \n",
       "4  industrial              None                   1.8 MW        hydro   \n",
       "\n",
       "  oblast_name_en  gppd_overlap  \\\n",
       "0       Cherkasy         False   \n",
       "1       Cherkasy         False   \n",
       "2       Cherkasy         False   \n",
       "3       Cherkasy          True   \n",
       "4       Cherkasy         False   \n",
       "\n",
       "                                            geometry  \\\n",
       "0  POLYGON ((30.23471 49.14875, 30.23474 49.14865...   \n",
       "1  POLYGON ((30.39681 49.09151, 30.39702 49.09146...   \n",
       "2  POLYGON ((30.94182 49.09441, 30.94192 49.09439...   \n",
       "3  POLYGON ((31.45975 49.76252, 31.45949 49.76242...   \n",
       "4  POLYGON ((31.26293 49.41092, 31.26287 49.41129...   \n",
       "\n",
       "                    centroid  centroid_lon  centroid_lat  \n",
       "0  POINT (30.23487 49.14871)     30.234865     49.148713  \n",
       "1  POINT (30.39686 49.09137)     30.396857     49.091373  \n",
       "2  POINT (30.94264 49.09422)     30.942636     49.094220  \n",
       "3  POINT (31.47335 49.76075)     31.473345     49.760754  \n",
       "4  POINT (31.26386 49.41185)     31.263858     49.411851  "
      ]
     },
     "execution_count": 4,
     "metadata": {},
     "output_type": "execute_result"
    }
   ],
   "source": [
    "gdf_osm.head()"
   ]
  },
  {
   "cell_type": "code",
   "execution_count": 5,
   "metadata": {},
   "outputs": [
    {
     "data": {
      "text/plain": [
       "plant_source\n",
       "solar             380\n",
       "gas               136\n",
       "hydro              87\n",
       "coal               21\n",
       "wind               19\n",
       "nuclear             5\n",
       "biogas              4\n",
       "biomass             3\n",
       "gas;oil             3\n",
       "gas;coal            2\n",
       "diesel              1\n",
       "coal;gas;oil        1\n",
       "coal;oil            1\n",
       "waste               1\n",
       "oil;gas             1\n",
       "oil;gas;diesel      1\n",
       "gas;mazut           1\n",
       "wood                1\n",
       "coal;gas            1\n",
       "Name: count, dtype: int64"
      ]
     },
     "execution_count": 5,
     "metadata": {},
     "output_type": "execute_result"
    }
   ],
   "source": [
    "# counts per power source\n",
    "gdf_osm[\"plant_source\"].value_counts()"
   ]
  },
  {
   "cell_type": "code",
   "execution_count": 6,
   "metadata": {},
   "outputs": [
    {
     "data": {
      "text/plain": [
       "Index(['power', 'substation', 'name', 'station_name_en', 'operator',\n",
       "       'operator_en', 'barrier', 'voltage', 'landuse', 'plant_method',\n",
       "       'plant_output_electricity', 'plant_source', 'oblast_name_en',\n",
       "       'gppd_overlap', 'geometry', 'centroid', 'centroid_lon', 'centroid_lat'],\n",
       "      dtype='object')"
      ]
     },
     "execution_count": 6,
     "metadata": {},
     "output_type": "execute_result"
    }
   ],
   "source": [
    "gdf_osm.columns"
   ]
  },
  {
   "cell_type": "code",
   "execution_count": 7,
   "metadata": {},
   "outputs": [
    {
     "data": {
      "text/html": [
       "<div>\n",
       "<style scoped>\n",
       "    .dataframe tbody tr th:only-of-type {\n",
       "        vertical-align: middle;\n",
       "    }\n",
       "\n",
       "    .dataframe tbody tr th {\n",
       "        vertical-align: top;\n",
       "    }\n",
       "\n",
       "    .dataframe thead th {\n",
       "        text-align: right;\n",
       "    }\n",
       "</style>\n",
       "<table border=\"1\" class=\"dataframe\">\n",
       "  <thead>\n",
       "    <tr style=\"text-align: right;\">\n",
       "      <th></th>\n",
       "      <th>power</th>\n",
       "      <th>substation</th>\n",
       "      <th>name</th>\n",
       "      <th>station_name_en</th>\n",
       "      <th>operator</th>\n",
       "      <th>operator_en</th>\n",
       "      <th>barrier</th>\n",
       "      <th>voltage</th>\n",
       "      <th>landuse</th>\n",
       "      <th>plant_method</th>\n",
       "      <th>plant_output_electricity</th>\n",
       "      <th>plant_source</th>\n",
       "      <th>oblast_name_en</th>\n",
       "      <th>gppd_overlap</th>\n",
       "      <th>geometry</th>\n",
       "      <th>centroid</th>\n",
       "      <th>centroid_lon</th>\n",
       "      <th>centroid_lat</th>\n",
       "    </tr>\n",
       "  </thead>\n",
       "  <tbody>\n",
       "    <tr>\n",
       "      <th>324</th>\n",
       "      <td>plant</td>\n",
       "      <td>None</td>\n",
       "      <td>колишня Каховська ГЕС імені П. С. Непорожнього</td>\n",
       "      <td>ex Kakhovskaya HPP named after P. S. Neporozhny</td>\n",
       "      <td>ВАТ «Укргідроенерго»</td>\n",
       "      <td>None</td>\n",
       "      <td>None</td>\n",
       "      <td>None</td>\n",
       "      <td>industrial</td>\n",
       "      <td>None</td>\n",
       "      <td>351 MW</td>\n",
       "      <td>hydro</td>\n",
       "      <td>Kherson</td>\n",
       "      <td>True</td>\n",
       "      <td>MULTIPOLYGON (((33.36813 46.78048, 33.37141 46...</td>\n",
       "      <td>POINT (33.36182 46.78296)</td>\n",
       "      <td>33.361821</td>\n",
       "      <td>46.782962</td>\n",
       "    </tr>\n",
       "  </tbody>\n",
       "</table>\n",
       "</div>"
      ],
      "text/plain": [
       "     power substation                                            name  \\\n",
       "324  plant       None  колишня Каховська ГЕС імені П. С. Непорожнього   \n",
       "\n",
       "                                     station_name_en              operator  \\\n",
       "324  ex Kakhovskaya HPP named after P. S. Neporozhny  ВАТ «Укргідроенерго»   \n",
       "\n",
       "    operator_en barrier voltage     landuse plant_method  \\\n",
       "324        None    None    None  industrial         None   \n",
       "\n",
       "    plant_output_electricity plant_source oblast_name_en  gppd_overlap  \\\n",
       "324                   351 MW        hydro        Kherson          True   \n",
       "\n",
       "                                              geometry  \\\n",
       "324  MULTIPOLYGON (((33.36813 46.78048, 33.37141 46...   \n",
       "\n",
       "                      centroid  centroid_lon  centroid_lat  \n",
       "324  POINT (33.36182 46.78296)     33.361821     46.782962  "
      ]
     },
     "execution_count": 7,
     "metadata": {},
     "output_type": "execute_result"
    }
   ],
   "source": [
    "# sanity check Kakhovka hydroelectric dam\n",
    "gdf_osm[gdf_osm[\"plant_output_electricity\"] == \"351 MW\"]"
   ]
  },
  {
   "cell_type": "markdown",
   "metadata": {},
   "source": [
    "### Global Power Plant Database (World Resources Institute)"
   ]
  },
  {
   "cell_type": "code",
   "execution_count": 8,
   "metadata": {},
   "outputs": [],
   "source": [
    "import pandas as pd\n",
    "url = \"https://raw.githubusercontent.com/wri/global-power-plant-database/master/output_database/global_power_plant_database.csv\"\n",
    "\n",
    "df_gppd = pd.read_csv(url, low_memory=False)"
   ]
  },
  {
   "cell_type": "code",
   "execution_count": 9,
   "metadata": {},
   "outputs": [],
   "source": [
    "# filter for Ukraine only\n",
    "df_gppd_ukr = df_gppd[df_gppd[\"country_long\"] == \"Ukraine\"]\n",
    "df_gppd_ukr.shape\n",
    "\n",
    "# select relevant columns\n",
    "df_gppd_ukr = df_gppd_ukr[['country', 'country_long', 'name', 'gppd_idnr', 'capacity_mw',\n",
    "       'latitude', 'longitude', 'primary_fuel', 'other_fuel1', 'other_fuel2',\n",
    "       'other_fuel3', 'commissioning_year', 'owner', 'source', 'url',\n",
    "       'geolocation_source', 'wepp_id', 'year_of_capacity_data',\n",
    "       'generation_gwh_2019', 'generation_data_source']]"
   ]
  },
  {
   "cell_type": "code",
   "execution_count": 10,
   "metadata": {},
   "outputs": [],
   "source": [
    "# export both (gdf_osm and df_gppd_ukr) as one Excel file with two sheets\n",
    "with pd.ExcelWriter(\"/workspaces/ukr_energy_dash/assets/data/ukr_power_substations.xlsx\", engine=\"openpyxl\") as writer:\n",
    "    gdf_osm.to_excel(writer, sheet_name=\"OSM Power Stations\", index=False)\n",
    "    df_gppd_ukr.to_excel(writer, sheet_name=\"GPPD Power Plants\", index=False)"
   ]
  }
 ],
 "metadata": {
  "kernelspec": {
   "display_name": ".venv",
   "language": "python",
   "name": "python3"
  },
  "language_info": {
   "codemirror_mode": {
    "name": "ipython",
    "version": 3
   },
   "file_extension": ".py",
   "mimetype": "text/x-python",
   "name": "python",
   "nbconvert_exporter": "python",
   "pygments_lexer": "ipython3",
   "version": "3.11.13"
  }
 },
 "nbformat": 4,
 "nbformat_minor": 2
}
