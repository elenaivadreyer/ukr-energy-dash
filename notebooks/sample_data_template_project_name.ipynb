{
 "cells": [
  {
   "cell_type": "markdown",
   "metadata": {},
   "source": [
    "# Sample Notebook: data_template_project_name\n",
    "\n",
    "This notebook is seen as a quick and efficient know-how on using the package and its modules, for users and developers alike. Not only that, a room for playground and quick analyses are also possible here.\n",
    "\n",
    "For multiple modules of a package and if necessary, a separate jupyter notebook file for each module is recommended."
   ]
  },
  {
   "cell_type": "code",
   "execution_count": null,
   "metadata": {},
   "outputs": [],
   "source": []
  }
 ],
 "metadata": {
  "language_info": {
   "name": "python"
  }
 },
 "nbformat": 4,
 "nbformat_minor": 2
}
